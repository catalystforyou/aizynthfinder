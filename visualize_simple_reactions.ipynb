{
 "cells": [
  {
   "cell_type": "code",
   "execution_count": 1,
   "metadata": {},
   "outputs": [],
   "source": [
    "import json"
   ]
  },
  {
   "cell_type": "code",
   "execution_count": 2,
   "metadata": {},
   "outputs": [],
   "source": [
    "simple_rxns = json.load(open('../data/simple_reactions.json'))"
   ]
  },
  {
   "cell_type": "code",
   "execution_count": 12,
   "metadata": {},
   "outputs": [
    {
     "data": {
      "text/plain": [
       "'[CH3:1][CH:2]([CH2:3][CH2:4][CH2:5][c:6]1[cH:7][cH:8][c:9]([F:10])[cH:11][cH:12]1)[C:13]1=[CH:14][C:15]([OH:16])([OH:17])[C:18]2=[C:19]3[CH2:20][NH:21][CH2:26][CH2:27][CH:28]3[C:29]([CH3:30])([CH3:31])[O:32][C:33]2=[CH:34]1.Br[CH2:22][CH:23]1[CH2:24][CH2:25]1>CN(C)C=O>[CH3:1][CH:2]([CH2:3][CH2:4][CH2:5][c:6]1[cH:7][cH:8][c:9]([F:10])[cH:11][cH:12]1)[C:13]1=[CH:14][C:15]([OH:16])([OH:17])[C:18]2=[C:19]3[CH2:20][N:21]([CH2:22][CH:23]4[CH2:24][CH2:25]4)[CH2:26][CH2:27][CH:28]3[C:29]([CH3:30])([CH3:31])[O:32][C:33]2=[CH:34]1'"
      ]
     },
     "execution_count": 12,
     "metadata": {},
     "output_type": "execute_result"
    }
   ],
   "source": [
    "simple_rxns[612]"
   ]
  },
  {
   "cell_type": "code",
   "execution_count": null,
   "metadata": {},
   "outputs": [],
   "source": []
  }
 ],
 "metadata": {
  "kernelspec": {
   "display_name": "aizynth-dev",
   "language": "python",
   "name": "python3"
  },
  "language_info": {
   "codemirror_mode": {
    "name": "ipython",
    "version": 3
   },
   "file_extension": ".py",
   "mimetype": "text/x-python",
   "name": "python",
   "nbconvert_exporter": "python",
   "pygments_lexer": "ipython3",
   "version": "3.9.16"
  }
 },
 "nbformat": 4,
 "nbformat_minor": 2
}
