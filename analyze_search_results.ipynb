{
 "cells": [
  {
   "cell_type": "code",
   "execution_count": 1,
   "metadata": {},
   "outputs": [],
   "source": [
    "import json\n",
    "import os\n",
    "import pandas as pd"
   ]
  },
  {
   "cell_type": "code",
   "execution_count": 21,
   "metadata": {},
   "outputs": [],
   "source": [
    "def extract_activation(route):\n",
    "    rxn_nodes = []\n",
    "    def preorder(root):\n",
    "        if root.get('children') == None:\n",
    "            return\n",
    "        for child in root['children']:\n",
    "            if child.get('type') == 'reaction':\n",
    "                rxn_nodes.append(child)\n",
    "            preorder(child)\n",
    "    preorder(route)\n",
    "    return max([node['metadata']['activation_energy'] for node in rxn_nodes])"
   ]
  },
  {
   "cell_type": "code",
   "execution_count": 17,
   "metadata": {},
   "outputs": [],
   "source": [
    "result = json.load(open('mechanism_results/routes_0_0_0.json'))"
   ]
  },
  {
   "cell_type": "code",
   "execution_count": 22,
   "metadata": {},
   "outputs": [
    {
     "name": "stdout",
     "output_type": "stream",
     "text": [
      "9999\n",
      "9999\n"
     ]
    }
   ],
   "source": [
    "for res in result:\n",
    "    print(extract_activation(res))"
   ]
  },
  {
   "cell_type": "code",
   "execution_count": 2,
   "metadata": {},
   "outputs": [
    {
     "name": "stdout",
     "output_type": "stream",
     "text": [
      "45 90 0.5\n",
      "count    45.000000\n",
      "mean      5.311111\n",
      "std       3.901178\n",
      "min       1.000000\n",
      "25%       2.000000\n",
      "50%       5.000000\n",
      "75%       8.000000\n",
      "max      16.000000\n",
      "dtype: float64\n",
      "count     90.000000\n",
      "mean      81.077778\n",
      "std       53.174554\n",
      "min        3.000000\n",
      "25%       37.000000\n",
      "50%       81.500000\n",
      "75%      107.750000\n",
      "max      212.000000\n",
      "dtype: float64\n"
     ]
    }
   ],
   "source": [
    "solved = 0\n",
    "total = 0\n",
    "calls = []\n",
    "routes = []\n",
    "for i in range(100):\n",
    "    if os.path.exists('mechanism_results/routes_{}.json'.format(i)):\n",
    "        total += 1\n",
    "        result = json.load(open('mechanism_results/statistics_{}.json'.format(i)))\n",
    "        calls.append(result['profiling']['expansion_calls'])\n",
    "        if result['first_solution_time'] > 0:\n",
    "            solved += 1\n",
    "        if result['number_of_solved_routes'] > 0:\n",
    "            routes.append(result['number_of_solved_routes'])\n",
    "print(solved, total, solved / total)\n",
    "print(pd.Series(routes).describe())\n",
    "print(pd.Series(calls).describe())\n",
    "# pd.Series(routes).hist(bins=100)"
   ]
  },
  {
   "cell_type": "code",
   "execution_count": null,
   "metadata": {},
   "outputs": [],
   "source": []
  }
 ],
 "metadata": {
  "kernelspec": {
   "display_name": "aizynth-dev",
   "language": "python",
   "name": "python3"
  },
  "language_info": {
   "codemirror_mode": {
    "name": "ipython",
    "version": 3
   },
   "file_extension": ".py",
   "mimetype": "text/x-python",
   "name": "python",
   "nbconvert_exporter": "python",
   "pygments_lexer": "ipython3",
   "version": "3.9.16"
  }
 },
 "nbformat": 4,
 "nbformat_minor": 2
}
